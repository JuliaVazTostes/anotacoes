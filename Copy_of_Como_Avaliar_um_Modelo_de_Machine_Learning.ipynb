{
  "nbformat": 4,
  "nbformat_minor": 0,
  "metadata": {
    "colab": {
      "name": "Copy of Como Avaliar um Modelo de Machine Learning.ipynb",
      "provenance": [],
      "include_colab_link": true
    },
    "kernelspec": {
      "name": "python3",
      "display_name": "Python 3"
    }
  },
  "cells": [
    {
      "cell_type": "markdown",
      "metadata": {
        "id": "view-in-github",
        "colab_type": "text"
      },
      "source": [
        "<a href=\"https://colab.research.google.com/github/JuliaVazTostes/anotacoes/blob/master/Copy_of_Como_Avaliar_um_Modelo_de_Machine_Learning.ipynb\" target=\"_parent\"><img src=\"https://colab.research.google.com/assets/colab-badge.svg\" alt=\"Open In Colab\"/></a>"
      ]
    },
    {
      "cell_type": "markdown",
      "metadata": {
        "id": "B3tMDtOf-XR-",
        "colab_type": "text"
      },
      "source": [
        "# Como avaliar um modelo de *Machine Learning*\n",
        "\n",
        "Beleza, você construiu seu modelo de *Machine Learning*, após várias horas fazendo uma análise exploratória e limpando os dados, treinou ele em cima do seu conjunto de dados e obteve os coeficientes \"ideais\". Qual o próximo passo?\n",
        "\n",
        "> \"Você não controla aquilo que não consegue mensurar\"\n",
        "\n",
        "Trabalhei durante 1 ano no Centro de Operações Aeroespaciais (COMAE), analisando dados da cadeia de Comando e Controle (C2) da Força Aérea, e essa foi uma das frases que eu mais escutei por lá.\n",
        "\n",
        "<img src=\"http://sigmoidal.ai/wp-content/uploads/2019/10/pngtree-measuring-accuracy-measure-small-tiny-flat-color-icon-vect-png-image_1619121.jpg\" align=left width=\"200px\">\n",
        "\n",
        "Na verdade, medir resultados e monitorar indicadores não é algo exclusivo de sistemas militares, mas é uma tarefa obrigatória em qualquer atividade, ainda mais em modelos de Inteligência Artificial.\n",
        "\n",
        "Se você não sabe como o seu algoritmo está performando, pode acabar compromentendo o faturamento de uma empresa ou até mesmo a imagem dela.\n",
        "\n",
        "Existem inúmeras metodologias, métricas e pesquisas sobre esta etapa de avaliação. A cada dia, a fronteira da ciência avança um passo. O que era o *estado da arte* ontem, provavelmente não mais será em um mês. \n",
        "\n",
        "Quero trazer aqui uma visão geral daquelas métricas mais conhecidas e usadas pela comunidade. \n"
      ]
    },
    {
      "cell_type": "markdown",
      "metadata": {
        "id": "J0t_VR8iAuZl",
        "colab_type": "text"
      },
      "source": [
        "## Avaliando Modelos de Regressão\n",
        "\n",
        "Modelos de Regressão buscam prever um valor numérico contínuo. Por exemplo, qual o preço de venda de um imóvel ou qual o faturamento esperado para o próximo mês.\n",
        "\n",
        "Quando estamos usando o *dataset* de teste, fazemos a previsão $\\hat{y}_i$ para a $i\\text{-ésima}$ linha. Uma vez que também temos o valor real $y_i$, podemos calcular esse erro de diferentes formas.\n",
        "\n",
        "### *Mean Absolut Error* - MAE\n",
        "\n",
        "É o mais simples de todos, onde se calcula a média do erro para todos os pontos onde realizamos previsões. \n",
        "\n",
        "$$MAE = \\frac{1}{n}\\sum_{i=1}^{n}|y_i - \\hat{y}_i|$$\n",
        "\n",
        "O valor absoluto da diferença é o que a métrica MAE utiliza. Sua característica é usar o mesmo peso tanto para os erros pequenos quanto para os erros maiores.\n",
        "\n",
        "### *Mean Squared Error* - MSE\n",
        "\n",
        "Na minha opinião é a métrica mais usada. O MSE calcula a média dos erros elevados à segunda potência.\n",
        "\n",
        "$$MSE = \\frac{1}{n}\\sum_{i=1}^{n}(y_i - \\hat{y}_i)^2$$\n",
        "\n",
        "A vantagem é que os erros mais grotescos serão mais penalizados que aqueles menores, o que implica que diferenças menores receberão menor importância. \n",
        "\n",
        "### *R-Squared* - $R^2$\n",
        "\n",
        "Apesar do R-Squared não se tratar de *erros*, propriamente, é bastante popular para verificar a acurácia de modelos de regressão.\n",
        "\n",
        "$$R^2 = 1 - \\frac{\\sum_{j=1}^{n}(y_i - \\hat{y}_i)^2}{\\sum_{j=1}^{n}(y_i - \\bar{y}_i)^2}$$\n",
        "\n",
        "Você pode entender a métrica como sendo \"quão bom o seu modelo está próximo dos valores reais\", e ele faz isso calculando as variâncias em relação à media e à reta.\n"
      ]
    },
    {
      "cell_type": "markdown",
      "metadata": {
        "id": "CrZrhAq3Fjpp",
        "colab_type": "text"
      },
      "source": [
        "## Avaliando Modelos de Classificação\n",
        "\n",
        "Seja trabalhando com classificação binária ou com diversas classes, as métricas relacionadas a modelos de classificação não podem ser os mesmos que usamos em modelos de regressão.\n",
        "\n",
        "### Matriz de Confusão\n",
        "\n",
        "Uma das principais maneiras de você verificar o desempenho do seu algoritmo é por meio da Matriz de Confusão. Para cada classe, ela informa quais os valores reais (*actual*) e os valores previstos pelo modelo (*predicted*).\n",
        "\n",
        "<p align=center><img src=\"http://sigmoidal.ai/wp-content/uploads/2019/10/6a010534b1db25970b01bb08c97955970d.png\" width=\"200px\"></p>\n",
        "\n",
        "Dessa maneira, é possível rapidamente identificar:\n",
        "\n",
        "* **Verdadeiro positivo (*true positive* — TP):** Por exemplo, quando o paciente tem doença cardiovascular e o modelo classifica como tendo doença vascular.\n",
        "\n",
        "* **Falso positivo (*false positive* — FP):** Por exemplo, quando o paciente não tem doença cardiovascular e o modelo classifica como tendo doença vascular.\n",
        "\n",
        "* **Falso negativo (*true negative* — TN)**: Por exemplo, quando o paciente tem doença cardiovascular e o modelo classifica como não tendo doença vascular.\n",
        "\n",
        "* **Verdadeiro negativo (*false negative* — FN):** Por exemplo, quando o paciente não tem doença cardiovascular e o modelo classifica como não tendo doença vascular.\n",
        "\n",
        "<p align=center><img src=\"http://sigmoidal.ai/wp-content/uploads/2019/10/Screen-Shot-2019-10-07-at-10.02.40.png\" width=\"80%\"></p>\n",
        "\n",
        "\n",
        "Desse sumário da matriz de confusão, conseguimos extrair várias informações importantes.\n",
        "\n",
        "#### Precisão\n",
        "\n",
        "A precisão diz respeito à quantidade (proporcional) de identificações positivas feita corretamente, e é obtida pela equação $\\frac{TP}{TP+FP}$.\n",
        "\n",
        "#### Acurácia\n",
        "\n",
        "Mostra quantas previsões o modelo acertou em relação a todas que seriam possíveis. Essa razão entre as previsões corretas e todas as previsões é obtida por $\\frac{\\text{predições corretas}}{\\text{todas predições}} = \\frac{TP+TN}{TP+FN+FP+TN}$\n",
        "\n",
        "#### *Recall*\n",
        "\n",
        "Mostra a proporção de positivos encontrados corretamente. Isoladamente, temos como ver o desempenho em identificar os casos positivos das nossas previsões por meio da relação $\\frac{TP}{TP+FN}$.\n",
        "\n",
        "#### *f-score*\n",
        "\n",
        "É a média harmonica entre precisão e *recall*. O melhor valor possível para 0 *f-score* é 1 e o pior é 0. É calculado por $2* \\frac{precision*recall}{precision+recall}$."
      ]
    }
  ]
}